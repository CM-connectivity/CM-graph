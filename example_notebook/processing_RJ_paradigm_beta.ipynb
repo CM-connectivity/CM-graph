{
 "cells": [
  {
   "cell_type": "markdown",
   "metadata": {},
   "source": [
    "# This script is a beta version of applying PMI on preped EEG-EMG data. These data are recorded according to the Ruijin paradigm."
   ]
  },
  {
   "cell_type": "code",
   "execution_count": 3,
   "metadata": {},
   "outputs": [
    {
     "name": "stdout",
     "output_type": "stream",
     "text": [
      "Reading E:/important file/Projects/CM-graph/sample_data/subj4\\epochs_hybrid\\subj4_iMC_s02_hybrid_epo.fif ...\n",
      "    Found the data of interest:\n",
      "        t =       0.00 ...    2000.00 ms\n",
      "        0 CTF compensation matrices available\n",
      "45 matching events found\n",
      "Applying baseline correction (mode: mean)\n",
      "Not setting metadata\n",
      "0 projection items activated\n"
     ]
    }
   ],
   "source": [
    "########## Import ##############\n",
    "import os,numpy as np, pandas as pd,mne\n",
    "################################\n",
    "\n",
    "################## Dataset Loading ##################\n",
    "# data_dir = 'D:/Data/MultiEEGEMG_stroke/'\n",
    "\n",
    "# Dir in PC\n",
    "data_dir = 'E:/important file/Projects/CM-graph/sample_data/'\n",
    "\n",
    "subj_idx = '4'\n",
    "contraction_type = 'iMC'\n",
    "session_idx = 's02'\n",
    "\n",
    "epochs_hybrid_dir = os.path.join(data_dir,'subj'+subj_idx,'epochs_hybrid')\n",
    "epochs_hybrid_fName = os.path.join(data_dir,'subj'+subj_idx,'epochs_hybrid',\n",
    "                                      'subj'+subj_idx+'_'+contraction_type+'_'+session_idx+'_hybrid_epo.fif')\n",
    "epochs_hybrid = mne.read_epochs(epochs_hybrid_fName,preload=True)"
   ]
  },
  {
   "cell_type": "code",
   "execution_count": 15,
   "metadata": {},
   "outputs": [
    {
     "name": "stdout",
     "output_type": "stream",
     "text": [
      "Converting \"time\" to \"<class 'numpy.int64'>\"...\n"
     ]
    }
   ],
   "source": [
    "## understand the DataFrame structure\n",
    "df_hybrid = epochs_hybrid.to_data_frame()\n",
    "# select the epoch 0 of condition 1 for further PMI calculation\n",
    "df2test = df_hybrid.loc['1',0]\n",
    "x = df2test.iloc[:,1].values"
   ]
  },
  {
   "cell_type": "code",
   "execution_count": 20,
   "metadata": {},
   "outputs": [],
   "source": [
    "def ordinal_pattern_distribution (x, ndemb):\n",
    "    import math\n",
    "    # x is a df.series\n",
    "    # ndemb: embedding dimension\n",
    "    onsets_idx = np.linspace(1,(len(x)-ndemb + 1))\n",
    "    epsilon=1.e-10\n",
    "    ifrec=np.zeros(math.factorial(ndemb))\n",
    "    for i in range(len(onsets_idx)):\n",
    "        x_obsved_pattern = x[i:i+ndemb-1]"
   ]
  },
  {
   "cell_type": "code",
   "execution_count": 31,
   "metadata": {},
   "outputs": [
    {
     "data": {
      "text/plain": [
       "-0.19089245748007902"
      ]
     },
     "execution_count": 31,
     "metadata": {},
     "output_type": "execute_result"
    }
   ],
   "source": [
    "# Test ordinal_pattern\n",
    "ndemb = 3\n",
    "# onset_idx = np.linspace(1,(len(x)-ndemb + 1))\n",
    "# onset_idx\n",
    "onsets_idx = np.linspace(1,(len(x)-ndemb + 1))\n",
    "epsilon=1.e-10\n",
    "ifrec=np.zeros(math.factorial(ndemb))\n",
    "for i in range(len(onsets_idx)):\n",
    "    x_obsved_pattern = x[i:i+ndemb]\n",
    "    ipa = np.zerons()\n",
    "    \n",
    "\n",
    "x[0]"
   ]
  },
  {
   "cell_type": "code",
   "execution_count": 9,
   "metadata": {},
   "outputs": [
    {
     "ename": "SyntaxError",
     "evalue": "invalid syntax (<ipython-input-9-6aba3d885f91>, line 1)",
     "output_type": "error",
     "traceback": [
      "\u001b[1;36m  File \u001b[1;32m\"<ipython-input-9-6aba3d885f91>\"\u001b[1;36m, line \u001b[1;32m1\u001b[0m\n\u001b[1;33m    docker run \\ --rm -p 8888:8888 \\ rpy2/rpy2:3.1.x\u001b[0m\n\u001b[1;37m             ^\u001b[0m\n\u001b[1;31mSyntaxError\u001b[0m\u001b[1;31m:\u001b[0m invalid syntax\n"
     ]
    }
   ],
   "source": [
    "# Design PMI function\n",
    "def ordinal_pattern_distribution (x, ndemb): \n",
    "    \n",
    "  \n",
    "  ### Deal with gaps in the sliding window time series:\n",
    "  # get indices to run through for calculation of complexity measures\n",
    "  gapfree = stats::na.omit\n",
    "(\n",
    "      sapply(1:(length(x)-ndemb + 1), \n",
    "             FUN = function(y) if(!any(is.na(x[y:(y+ndemb-1)]))) return(y) else return(NA)\n",
    "            )\n",
    ")\n",
    "  \n",
    "  epsilon=1.e-10\n",
    "  npdim=factorial(ndemb)\n",
    "  \n",
    "  #Berechnungs der Ordnungsstatistik nach der Kodierung von Karsten Keller:\n",
    "  #Physica A 356 (2005) 114-120\n",
    "  \n",
    "  ifrec = numeric(length=npdim)  #ersetzt die for-schleife zum erstellen des Vektors, #for ip=1:npdim; ifrec( ip ) = 0; end;\n",
    "  \n",
    "  ## introduce for loop:\n",
    "  for (nv in 1:(length(gapfree))) {\n",
    "    \n",
    "    xvec <- x[gapfree[nv]:(gapfree[nv] + ndemb - 1)]\n",
    "    \n",
    "    ## only if no gaps are in the \"word\" of the time series:\n",
    "    ipa = matrix(data=0,nrow=ndemb, ncol=ndemb)  #Inversionsmatrix\n",
    "    \n",
    "    for (il in 2:ndemb) {\n",
    "      for (it in il:ndemb) { \n",
    "        ipa[it, il] = ipa[it-1, il-1]\n",
    "        if( (xvec[it] <= xvec[it - ( il - 1 ) ] ) || ( abs( xvec[it - ( il - 1)] - xvec[it]) < epsilon))\n",
    "          ipa[ it, il ] = ipa[ it, il ] + 1;\n",
    "      }\n",
    "    }\n",
    "    \n",
    "    nd = ipa[ndemb,2] \n",
    "    for (il in 3:ndemb) {\n",
    "      nd =il * nd + ipa[ndemb, il]\n",
    "    }\n",
    "    \n",
    "    ifrec[nd + 1] = ifrec[nd+ 1] + 1;       \n",
    "  }\n",
    "  \n",
    "  # ifrec is the ordinal pattern distribution in the Keller coding scheme!\n",
    "  return(ifrec)\n",
    "}"
   ]
  }
 ],
 "metadata": {
  "kernelspec": {
   "display_name": "Python 3",
   "language": "python",
   "name": "python3"
  },
  "language_info": {
   "codemirror_mode": {
    "name": "ipython",
    "version": 3
   },
   "file_extension": ".py",
   "mimetype": "text/x-python",
   "name": "python",
   "nbconvert_exporter": "python",
   "pygments_lexer": "ipython3",
   "version": "3.7.3"
  }
 },
 "nbformat": 4,
 "nbformat_minor": 4
}
