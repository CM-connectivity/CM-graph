{
 "cells": [
  {
   "cell_type": "markdown",
   "metadata": {},
   "source": [
    "# This script test the SLEMI MI estimation, bin estimation as well as latest standardized permutation MI\n",
    "# Major conclusion:\n",
    "- SLEMI aims to measure MI with fractural input, thus seems inappropriate for EEG-EMG connectivity\n",
    "- Bin estimation is inaccurate for dynamic system according to litteratures\n",
    "- SPMI inserts time-series information with respect to Bin estimation\n",
    "# Linking to EEG-EMG connectivity\n",
    "Bin estimation and SPMI shall be good candidates in EEG-EMG project\n",
    "## useful links:\n",
    "- SPMI applying on Frontal–temporal functional connectivity of EEG: https://link.springer.com/article/10.1007/s11571-019-09553-w\n",
    "- Permutation entropy: https://journals.aps.org/prl/pdf/10.1103/PhysRevLett.88.174102\n",
    "- Estimating MI with k-nearest neighbour distances: https://arxiv.org/pdf/cond-mat/0305641.pdf\n",
    "- SPMI regarding to PAC: https://arxiv.org/pdf/cond-mat/0305641.pdf\n",
    "- Permutation entropy in plain english: https://www.aptech.com/blog/permutation-entropy/\n",
    "- On the automatic parameter selection for permutation entropy: https://aip.scitation.org/doi/10.1063/1.5111719\n",
    "# Additional notes\n",
    "## Arima model in time series forecasting: AutoRegressive Integrated Moving Average\n",
    "Comparison:  While exponential smoothing models are based on a description of the trend and seasonality in the data, ARIMA models aim to describe the autocorrelations in the data. The term ‘Auto Regressive’ in ARIMA means it is a linear regression model that uses its own lags as predictors. To make a series stationary, the most common approach is to difference it. That is, subtract the previous value from the current value. Sometimes, depending on the complexity of the series, more than one differencing may be needed. ‘p’ is the order of the ‘Auto Regressive’ (AR) term. It refers to the number of lags of Y to be used as predictors. And ‘q’ is the order of the ‘Moving Average’ (MA) term. It refers to the number of lagged forecast errors that should go into the ARIMA Model. Links: https://www.machinelearningplus.com/time-series/arima-model-time-series-forecasting-python/\n",
    "\n",
    "# Implementing details\n",
    "two types of ordinal pattern distribution are implemented: for single time series and for joint variables via  Keller coding scheme.\n",
    "\n",
    "SPMI are implemented as HX+HY-HXY\n",
    "\n",
    "Relative SPMI is defined as (HX+HY-HXY)/max(HX,HY),PLEASE NOTE that this is not widly used."
   ]
  },
  {
   "cell_type": "code",
   "execution_count": 70,
   "metadata": {},
   "outputs": [
    {
     "name": "stderr",
     "output_type": "stream",
     "text": [
      "Bioconductor version 3.11 (BiocManager 1.30.10), R 4.0.1 (2020-06-06)\n",
      "\n",
      "Installing package(s) 'OmicsMarkeR'\n",
      "\n",
      "also installing the dependencies 'shape', 'bitops', 'assertive.properties', 'assertive.types', 'assertive.numbers', 'assertive.strings', 'assertive.datetimes', 'assertive.files', 'assertive.sets', 'assertive.matrices', 'assertive.models', 'assertive.data', 'assertive.data.uk', 'assertive.data.us', 'assertive.reflection', 'assertive.code', 'DiscriMiner', 'randomForest', 'gbm', 'pamr', 'glmnet', 'caTools', 'permute', 'assertive', 'assertive.base'\n",
      "\n",
      "\n"
     ]
    },
    {
     "name": "stdout",
     "output_type": "stream",
     "text": [
      "package 'shape' successfully unpacked and MD5 sums checked\n",
      "package 'bitops' successfully unpacked and MD5 sums checked\n",
      "package 'assertive.properties' successfully unpacked and MD5 sums checked\n",
      "package 'assertive.types' successfully unpacked and MD5 sums checked\n",
      "package 'assertive.numbers' successfully unpacked and MD5 sums checked\n",
      "package 'assertive.strings' successfully unpacked and MD5 sums checked\n",
      "package 'assertive.datetimes' successfully unpacked and MD5 sums checked\n",
      "package 'assertive.files' successfully unpacked and MD5 sums checked\n",
      "package 'assertive.sets' successfully unpacked and MD5 sums checked\n",
      "package 'assertive.matrices' successfully unpacked and MD5 sums checked\n",
      "package 'assertive.models' successfully unpacked and MD5 sums checked\n",
      "package 'assertive.data' successfully unpacked and MD5 sums checked\n",
      "package 'assertive.data.uk' successfully unpacked and MD5 sums checked\n",
      "package 'assertive.data.us' successfully unpacked and MD5 sums checked\n",
      "package 'assertive.reflection' successfully unpacked and MD5 sums checked\n",
      "package 'assertive.code' successfully unpacked and MD5 sums checked\n",
      "package 'DiscriMiner' successfully unpacked and MD5 sums checked\n",
      "package 'randomForest' successfully unpacked and MD5 sums checked\n",
      "package 'gbm' successfully unpacked and MD5 sums checked\n",
      "package 'pamr' successfully unpacked and MD5 sums checked\n",
      "package 'glmnet' successfully unpacked and MD5 sums checked\n",
      "package 'caTools' successfully unpacked and MD5 sums checked\n",
      "package 'permute' successfully unpacked and MD5 sums checked\n",
      "package 'assertive' successfully unpacked and MD5 sums checked\n",
      "package 'assertive.base' successfully unpacked and MD5 sums checked\n",
      "package 'OmicsMarkeR' successfully unpacked and MD5 sums checked\n",
      "\n",
      "The downloaded binary packages are in\n",
      "\tC:\\Users\\Administrator\\AppData\\Local\\Temp\\RtmpgPAoEE\\downloaded_packages\n"
     ]
    },
    {
     "name": "stderr",
     "output_type": "stream",
     "text": [
      "Old packages: 'backports', 'survival'\n",
      "\n"
     ]
    }
   ],
   "source": [
    "#install.packages('devtools') run once\n",
    "# The installation has encounter several problems, please be careful\n",
    "# library('devtools')\n",
    "# install_github(\"sysbiosig/SLEMI\")\n",
    "# install.packages('statcomp')\n",
    "# if (!requireNamespace(\"BiocManager\", quietly = TRUE))\n",
    "#     install.packages(\"BiocManager\")\n",
    "# BiocManager::install(version = \"3.11\")\n",
    "BiocManager::install('OmicsMarkeR')"
   ]
  },
  {
   "cell_type": "code",
   "execution_count": 21,
   "metadata": {},
   "outputs": [
    {
     "data": {
      "text/html": [
       "0.951653864272699"
      ],
      "text/latex": [
       "0.951653864272699"
      ],
      "text/markdown": [
       "0.951653864272699"
      ],
      "text/plain": [
       "[1] 0.9516539"
      ]
     },
     "metadata": {},
     "output_type": "display_data"
    },
    {
     "data": {
      "image/png": "[encoded data removed]",
      "text/plain": [
       "plot without title"
      ]
     },
     "metadata": {
      "image/png": {
       "height": 420,
       "width": 420
      },
      "text/plain": {
       "height": 420,
       "width": 420
      }
     },
     "output_type": "display_data"
    }
   ],
   "source": [
    "# illustration of permutation entropy, the smaller PE is, the more deterministic the time series are\n",
    "library('statcomp')\n",
    "x=arima.sim(model=list(ar=0.3),n=10^2)\n",
    "plot(x)\n",
    "opd = ordinal_pattern_distribution(x = x, ndemb = 4) #ndemb: embedding dimension\n",
    "permutation_entropy(opd)"
   ]
  },
  {
   "cell_type": "code",
   "execution_count": 20,
   "metadata": {},
   "outputs": [
    {
     "data": {
      "text/html": [
       "0.302560446346541"
      ],
      "text/latex": [
       "0.302560446346541"
      ],
      "text/markdown": [
       "0.302560446346541"
      ],
      "text/plain": [
       "[1] 0.3025604"
      ]
     },
     "metadata": {},
     "output_type": "display_data"
    },
    {
     "data": {
      "image/png": "[encoded data removed]",
      "text/plain": [
       "plot without title"
      ]
     },
     "metadata": {
      "image/png": {
       "height": 420,
       "width": 420
      },
      "text/plain": {
       "height": 420,
       "width": 420
      }
     },
     "output_type": "display_data"
    }
   ],
   "source": [
    "t=seq(0,10,0.1)\n",
    "y=ts(sin(t))\n",
    "plot(y)\n",
    "opd = ordinal_pattern_distribution(x = y, ndemb = 4) #ndemb: embedding dimension\n",
    "permutation_entropy(opd)"
   ]
  },
  {
   "cell_type": "code",
   "execution_count": 51,
   "metadata": {},
   "outputs": [
    {
     "name": "stdout",
     "output_type": "stream",
     "text": [
      "[1] 0.6131472\n"
     ]
    },
    {
     "data": {
      "text/html": [
       "0.613147192765458"
      ],
      "text/latex": [
       "0.613147192765458"
      ],
      "text/markdown": [
       "0.613147192765458"
      ],
      "text/plain": [
       "[1] 0.6131472"
      ]
     },
     "metadata": {},
     "output_type": "display_data"
    }
   ],
   "source": [
    "# The calculating procedure\n",
    "# Considering the time serie S = {4,7,8,5,6}, length = T\n",
    "# use tao (embedding time, =1 in this example) and D (embedding dimension, =3 in this example)\n",
    "# The partition is \n",
    "# [4 7 8\n",
    "#  7 8 5\n",
    "#  8 5 6]\n",
    "# To find the ordinal patterns (unique permutations that capture the ordinal rankings of the data), \n",
    "# D! possible permutations\n",
    "# p1 {0,1,2}\n",
    "# p2 {0,2,1}\n",
    "# p3 {1,2,0}\n",
    "# p4 {1,0,2}\n",
    "# p5 {2,1,0}\n",
    "# p6 {2,0,1}\n",
    "# The partition is transformed into a permutation matrix\n",
    "# [0 1 2\n",
    "#  1 2 0\n",
    "#  2 0 1]\n",
    "# Calculating the relative frequencies\n",
    "# number of occurrence = T-(D-1)*tao = 3\n",
    "# p1 = 1/3\n",
    "# p3 = 1/3\n",
    "# p6 = 1/3\n",
    "#PE = -sum_{1toD!}(1/3)ln(1/3)\n",
    "PE_theory=-3*1/3*log(1/3)/log(6)\n",
    "print(PE_theory)\n",
    "x = c(4,7,8,5,6)\n",
    "opd = ordinal_pattern_distribution(x = x, ndemb = 3)\n",
    "permutation_entropy(opd)"
   ]
  },
  {
   "cell_type": "code",
   "execution_count": 87,
   "metadata": {},
   "outputs": [
    {
     "name": "stdout",
     "output_type": "stream",
     "text": [
      "     [,1] [,2] [,3] [,4] [,5] [,6]\n",
      "[1,]    1  2.0  2.2  3.0    3    6\n",
      "[2,]    4  2.1  2.3  3.1    4    5\n"
     ]
    }
   ],
   "source": [
    "# Customize the joint opd\n",
    "## parameters\n",
    "# x:= matrix of number of signal*time series length\n",
    "# only for ndemb>=3\n",
    "library('OmicsMarkeR')\n",
    "# x=matrix(1:10,nrow=2,ncol=5)\n",
    "#x=t(create.random.matrix(2,10, st.dev = 1, perturb = 0.2))\n",
    "# x=matrix(c(1,4,2,2.1,2.2,2.3,3,3.1,3,4,6,5),nrow=2,ncol=6)\n",
    "# print(x)\n",
    "# ndemb = 3\n",
    "\n",
    "#opd_time_series\n",
    "ordinal_pattern_distribution = function(x, ndemb) {\n",
    "  \n",
    "  ### Deal with gaps in the sliding window time series:\n",
    "  # get indices to run through for calculation of complexity measures\n",
    "  gapfree = stats::na.omit(sapply(1:(length(x)-ndemb + 1), FUN = function(y) if(!any(is.na(x[y:(y+ndemb-1)]))) return(y) else return(NA)))\n",
    "  \n",
    "  epsilon=1.e-10\n",
    "  npdim=factorial(ndemb)\n",
    "  \n",
    "  #Berechnungs der Ordnungsstatistik nach der Kodierung von Karsten Keller:\n",
    "  #Physica A 356 (2005) 114-120\n",
    "  \n",
    "  ifrec = numeric(length=npdim)  #ersetzt die for-schleife zum erstellen des Vektors, #for ip=1:npdim; ifrec( ip ) = 0; end;\n",
    "  \n",
    "  ## introduce for loop:\n",
    "  for (nv in 1:(length(gapfree))) {\n",
    "    \n",
    "    xvec <- x[gapfree[nv]:(gapfree[nv] + ndemb - 1)]\n",
    "    \n",
    "    ## only if no gaps are in the \"word\" of the time series:\n",
    "    ipa = matrix(data=0,nrow=ndemb, ncol=ndemb)  #Inversionsmatrix\n",
    "    \n",
    "    for (il in 2:ndemb) {\n",
    "      for (it in il:ndemb) { \n",
    "        ipa[it, il] = ipa[it-1, il-1]\n",
    "        if( (xvec[it] <= xvec[it - ( il - 1 ) ] ) || ( abs( xvec[it - ( il - 1)] - xvec[it]) < epsilon))\n",
    "          ipa[ it, il ] = ipa[ it, il ] + 1;\n",
    "      }\n",
    "    }\n",
    "    \n",
    "    nd = ipa[ndemb,2] \n",
    "    for (il in 3:ndemb) {\n",
    "      nd =il * nd + ipa[ndemb, il]\n",
    "    }\n",
    "    \n",
    "    ifrec[nd + 1] = ifrec[nd+ 1] + 1;       \n",
    "  }\n",
    "  \n",
    "  # ifrec is the ordinal pattern distribution in the Keller coding scheme!\n",
    "  return(ifrec)\n",
    "}\n",
    "\n",
    "#opd_joint\n",
    "ordinal_pattern_distribution_joint=function(x,ndemb){\n",
    "epsilon=1.e-10\n",
    "npdim=factorial(ndemb)\n",
    "ifrec = numeric(length=npdim)\n",
    "gapfree_x = stats::na.omit(sapply(1:(length(x[c(1),])-ndemb + 1), FUN = function(y) if(!any(is.na(x[c(1),][y:(y+ndemb-1)]))) return(y) else return(NA)))\n",
    "gapfree_y = stats::na.omit(sapply(1:(length(x[c(2),])-ndemb + 1), FUN = function(y) if(!any(is.na(x[c(2),][y:(y+ndemb-1)]))) return(y) else return(NA)))\n",
    "gapfree_xy = vector(length=length(gapfree_x))\n",
    "for (gap_id in 1:length(gapfree_x)){\n",
    "    if (gapfree_x[gap_id] == gapfree_y[gap_id]){\n",
    "        gapfree_xy[gap_id]=gapfree_x[gap_id]\n",
    "    }\n",
    "}\n",
    "for (nv in 1:(length(gapfree_xy))) {\n",
    "    xmat <- x[,gapfree_xy[nv]:(gapfree_xy[nv] + ndemb - 1)]\n",
    "    xvec=as.vector(xmat)\n",
    "\n",
    "    ## only if no gaps are in the \"word\" of the time series:\n",
    "    ipa = matrix(data=0,nrow=ndemb, ncol=ndemb)  #Inversionsmatrix\n",
    "\n",
    "    for (il in 2:ndemb) {\n",
    "      for (it in il:ndemb) { \n",
    "        ipa[it, il] = ipa[it-1, il-1]\n",
    "        if( (xvec[it] <= xvec[it - ( il - 1 ) ] ) || ( abs( xvec[it - ( il - 1)] - xvec[it]) < epsilon))\n",
    "          ipa[ it, il ] = ipa[ it, il ] + 1;\n",
    "  }\n",
    "}\n",
    "    nd = ipa[ndemb,2] \n",
    "    for (il in 3:ndemb) {\n",
    "        nd =il * nd + ipa[ndemb, il]\n",
    "    }\n",
    "    \n",
    "    ifrec[nd + 1] = ifrec[nd+ 1] + 1;       \n",
    "  }\n",
    "return(ifrec)\n",
    "                                  }\n",
    "                                  \n",
    "shannon_entropy = function(opd) {\n",
    "  opd.prob = opd / sum(opd)\n",
    "  H_s = (-1) * sum(sapply(opd.prob, FUN=function(prob) if (prob >= 1.e-30) return(prob * log(prob)) else return(0)))\n",
    "  return(H_s)\n",
    "}\n",
    "                          \n",
    "# Permutation MI\n",
    "SPMI=function(x,ndemb){\n",
    "    X=x[c(1),]\n",
    "    Y=x[c(2),]\n",
    "    HX=shannon_entropy(ordinal_pattern_distribution(X,ndemb))\n",
    "    HY=shannon_entropy(ordinal_pattern_distribution(Y,ndemb))\n",
    "    HXY=shannon_entropy(ordinal_pattern_distribution_joint(x,ndemb))\n",
    "    return (HX+HY-HXY)\n",
    "}\n",
    "\n",
    "# regularized Permutation MI - consult Gansheng TAN for further theorectical details\n",
    "regularized_SPMI=function(x,ndemb){\n",
    "    X=x[c(1),]\n",
    "    Y=x[c(2),]\n",
    "    HX=shannon_entropy(ordinal_pattern_distribution(X,ndemb))\n",
    "    HY=shannon_entropy(ordinal_pattern_distribution(Y,ndemb))\n",
    "    HXY=shannon_entropy(ordinal_pattern_distribution_joint(x,ndemb))\n",
    "    return ((HX+HY-HXY)/max(HX,HY))\n",
    "}\n"
   ]
  },
  {
   "cell_type": "code",
   "execution_count": 103,
   "metadata": {},
   "outputs": [
    {
     "name": "stdout",
     "output_type": "stream",
     "text": [
      "     [,1] [,2] [,3] [,4] [,5] [,6]\n",
      "[1,]    1  2.0  2.2  3.0  3.2    6\n",
      "[2,]    4  2.1  2.3  3.1  4.0    5\n",
      "[1] 1.0 2.0 2.2 3.0 3.2 6.0\n",
      "opd of X is  4 0 0 0 0 0 \n",
      "PE of X is  0 \n",
      "[1] 4.0 2.1 2.3 3.1 4.0 5.0\n",
      "[1] 3 0 1 0 0 0\n",
      "[1] 0.5623351\n",
      "[1] 3 0 0 1 0 0\n",
      "[1] 0.5623351\n"
     ]
    },
    {
     "data": {
      "text/html": [
       "0"
      ],
      "text/latex": [
       "0"
      ],
      "text/markdown": [
       "0"
      ],
      "text/plain": [
       "[1] 0"
      ]
     },
     "metadata": {},
     "output_type": "display_data"
    }
   ],
   "source": [
    "# Test cell\n",
    "#ndemb is set to 3\n",
    "x=matrix(c(1,4,2,2.1,2.2,2.3,3,3.1,3.2,4,6,5),nrow=2,ncol=6)\n",
    "print(x)\n",
    "# In this cell, the opd for X (strictly increasing) is (4,0,0,0,0,0) \n",
    "print(x[c(1),])\n",
    "opd_X=ordinal_pattern_distribution(x[c(1),],3)\n",
    "cat('opd of X is ',opd_X,'\\n')\n",
    "cat('PE of X is ',shannon_entropy(opd_X),'\\n')\n",
    "# For Y, it is 3 0 1 0 0 0, only (4,2.1,2.3) is an exception\n",
    "print(x[c(2),])\n",
    "opd_Y = ordinal_pattern_distribution(x[c(2),],3)\n",
    "print(opd_Y)\n",
    "print(shannon_entropy(opd_Y))\n",
    "# For the joint PE\n",
    "opd_XY=ordinal_pattern_distribution_joint(x,3)\n",
    "print(opd_XY)\n",
    "print(shannon_entropy(opd_XY))\n",
    "# Thus the final decrease of PE_X is 0 \n",
    "SPMI(x,3)"
   ]
  },
  {
   "cell_type": "code",
   "execution_count": 151,
   "metadata": {},
   "outputs": [
    {
     "data": {
      "image/png": "[encoded data removed]",
      "text/plain": [
       "plot without title"
      ]
     },
     "metadata": {
      "image/png": {
       "height": 420,
       "width": 420
      },
      "text/plain": {
       "height": 420,
       "width": 420
      }
     },
     "output_type": "display_data"
    }
   ],
   "source": [
    "# Comparison of the SPMI for dependent variables and pseudo-unrelated variables\n",
    "# Green is x, dependent ys are represented red and independent ys are represented by blue line\n",
    "x <- runif(50, 0.0, 1.0)\n",
    "y_ind =runif(50, 0.0, 2.0)\n",
    "y_d = x^2+sin(x)\n",
    "t=seq(0.1,5,0.1)\n",
    "dat=matrix(c(t,x,y_d,y_ind),ncol=4)\n",
    "df=as.data.frame(dat)\n",
    "library('ggplot2')\n",
    "theme_set(theme_minimal())\n",
    "colnames(df) <- c(\"idx\",\"x\", \"dependent_y\",\"independent_y\")\n",
    "# df\n",
    "ggplot(data = df, aes(x=idx))+\n",
    "geom_line(aes(y=x),color=\"green\")+\n",
    "geom_line(aes(y=dependent_y),color=\"darkred\")+\n",
    "geom_line(aes(y=independent_y),color=\"steelblue\")\n",
    "ggsave(\"myplot.pdf\",width=8,height=4)\n",
    "# matplot(dat,type='l',col=1:3)\n",
    "# legend('topleft',legend=c('x','dependent y','ind y'),col=1:3,pch=1)"
   ]
  },
  {
   "cell_type": "code",
   "execution_count": 149,
   "metadata": {},
   "outputs": [
    {
     "name": "stdout",
     "output_type": "stream",
     "text": [
      "[1] 2.544242\n",
      "[1] 1.653674\n"
     ]
    }
   ],
   "source": [
    "#Comparison of the SPMI\n",
    "dat = t(matrix(c(x,y_d),ncol=2))\n",
    "print(SPMI(dat,3))\n",
    "dat = matrix(c(x,y_ind),nrow=2)\n",
    "print(SPMI(dat,3))\n",
    "#Conclusion high dependent variables have higher SPMI"
   ]
  },
  {
   "cell_type": "markdown",
   "metadata": {},
   "source": [
    "# Test script for python implementation"
   ]
  },
  {
   "cell_type": "code",
   "execution_count": 21,
   "metadata": {},
   "outputs": [
    {
     "data": {
      "text/html": [
       "<ol class=list-inline>\n",
       "\t<li>1</li>\n",
       "\t<li>2</li>\n",
       "\t<li>3</li>\n",
       "</ol>\n"
      ],
      "text/latex": [
       "\\begin{enumerate*}\n",
       "\\item 1\n",
       "\\item 2\n",
       "\\item 3\n",
       "\\end{enumerate*}\n"
      ],
      "text/markdown": [
       "1. 1\n",
       "2. 2\n",
       "3. 3\n",
       "\n",
       "\n"
      ],
      "text/plain": [
       "[1] 1 2 3"
      ]
     },
     "metadata": {},
     "output_type": "display_data"
    }
   ],
   "source": [
    "x = c(1,2,3,4,5,6,7,8,9)\n",
    "ndemb = 3 \n",
    "gapfree = stats::na.omit(sapply(1:(length(x)-ndemb + 1), FUN = function(y) if(!any(is.na(x[y:(y+ndemb-1)]))) return(y) else return(NA)))\n",
    "# gapfree = the onset index for vector x\n",
    "# 1:(length(x)-ndemb + 1): possible index, maybe contains NA\n",
    "# We will not have NA, so we could ignore that in the reimplementation\n",
    "npdim=factorial(ndemb)\n",
    "ifrec = numeric(length=npdim)\n",
    "\n",
    "for (nv in 1:(length(gapfree))) {    \n",
    "    xvec <- x[gapfree[nv]:(gapfree[nv] + ndemb - 1)]}\n",
    "gapfree[1]:(gapfree[1] + ndemb - 1)"
   ]
  },
  {
   "cell_type": "markdown",
   "metadata": {},
   "source": [
    "# Envelop\n",
    "## Something about the analytic signal and the analytic envelope\n",
    "The analytic representation of a real-valued function is an analytic signal, comprising the original function and its Hilbert transform. This representation facilitates many mathematical manipulations. The basic idea is that the negative frequency components of the Fourier transform (or spectrum) of a real-valued function are superfluous, due to the Hermitian symmetry of such a spectrum. These negative frequency components can be discarded with no loss of information, provided one is willing to deal with a complex-valued function instead. That makes certain attributes of the function more accessible and facilitates the derivation of modulation and demodulation techniques, such as single-sideband.\n"
   ]
  },
  {
   "cell_type": "code",
   "execution_count": null,
   "metadata": {},
   "outputs": [],
   "source": []
  }
 ],
 "metadata": {
  "kernelspec": {
   "display_name": "R",
   "language": "R",
   "name": "ir"
  },
  "language_info": {
   "codemirror_mode": "r",
   "file_extension": ".r",
   "mimetype": "text/x-r-source",
   "name": "R",
   "pygments_lexer": "r",
   "version": "3.5.2"
  }
 },
 "nbformat": 4,
 "nbformat_minor": 4
}
