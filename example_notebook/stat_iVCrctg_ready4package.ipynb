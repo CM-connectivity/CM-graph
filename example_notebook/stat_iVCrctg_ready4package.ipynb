{
 "cells": [
  {
   "cell_type": "markdown",
   "id": "d3ef279c",
   "metadata": {},
   "source": [
    "# This script is used to analyze coherence and graph features at the group level\n",
    "## kNN clustering to identify synergy patterns and remap SPMI\n",
    "## basic same old analysis on gCMN\n",
    "## explore EEG-synergy in patients and controls\n",
    "## Notes\n"
   ]
  },
  {
   "cell_type": "code",
   "execution_count": null,
   "id": "13f27b54",
   "metadata": {},
   "outputs": [],
   "source": []
  }
 ],
 "metadata": {
  "kernelspec": {
   "display_name": "Python 3",
   "language": "python",
   "name": "python3"
  },
  "language_info": {
   "codemirror_mode": {
    "name": "ipython",
    "version": 3
   },
   "file_extension": ".py",
   "mimetype": "text/x-python",
   "name": "python",
   "nbconvert_exporter": "python",
   "pygments_lexer": "ipython3",
   "version": "3.7.1"
  }
 },
 "nbformat": 4,
 "nbformat_minor": 5
}
