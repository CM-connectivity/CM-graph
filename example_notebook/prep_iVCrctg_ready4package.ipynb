{
 "cells": [
  {
   "cell_type": "markdown",
   "id": "db745a62",
   "metadata": {},
   "source": [
    "# This script contains EEG-EMG preprocessing for isokinetic rectangle movements \n",
    "## EEG/EMG denoising\n",
    "## epochs segmentation"
   ]
  },
  {
   "cell_type": "code",
   "execution_count": null,
   "id": "1c0604d5",
   "metadata": {},
   "outputs": [],
   "source": []
  }
 ],
 "metadata": {
  "kernelspec": {
   "display_name": "Python 3",
   "language": "python",
   "name": "python3"
  },
  "language_info": {
   "codemirror_mode": {
    "name": "ipython",
    "version": 3
   },
   "file_extension": ".py",
   "mimetype": "text/x-python",
   "name": "python",
   "nbconvert_exporter": "python",
   "pygments_lexer": "ipython3",
   "version": "3.7.1"
  }
 },
 "nbformat": 4,
 "nbformat_minor": 5
}
