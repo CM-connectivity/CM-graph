{
  "cells": [
    {
      "cell_type": "code",
      "execution_count": null,
      "metadata": {
        "collapsed": false
      },
      "outputs": [],
      "source": [
        "%matplotlib inline"
      ]
    },
    {
      "cell_type": "markdown",
      "metadata": {},
      "source": [
        "\nIntroductory example - Plotting sin\n===================================\nThis is a general example demonstrating a Matplotlib plot output, embedded\nrST, the use of math notation and cross-linking to other examples. It would be\nuseful to compare the :download:`source Python file <plot_0_sin.py>` with the\noutput below.\nSource files for gallery examples should start with a triple-quoted header\ndocstring. Anything before the docstring is ignored by Sphinx-Gallery and will\nnot appear in the rendered output, nor will it be executed. This docstring\nrequires a rST header, which is used as the title of the example and\nto correctly build cross-referencing links.\nCode and embedded rST text blocks follow the docstring. The first block\nimmediately after the docstring is deemed a code block, by default, unless you\nspecify it to be a text block using a line of ``#``'s or ``#%%`` (see below).\nAll code blocks get executed by Sphinx-Gallery and any output, including plots\nwill be captured. Typically, code and text blocks are interspersed to provide\nnarrative explanations of what the code is doing or interpretations of code\noutput.\nMathematical expressions can be included as LaTeX, and will be rendered with\nMathJax. To include displayed math notation, use the directive ``.. math::``.\nTo include inline math notation use the ``$` role. For example, we are\nabout to plot the following function:\n\\begin{align}x \\rightarrow \\sin(x)\\end{align}\nHere the function :math:$\\sin` is evaluated at each point the variable\n$x$ is defined. When including LaTeX in a Python string, ensure that you\nescape the backslashes or use a `raw docstring <python:strings>`. You do\nnot need to do this in text blocks (see below).\n"
      ]
    },
    {
      "cell_type": "code",
      "execution_count": null,
      "metadata": {
        "collapsed": false
      },
      "outputs": [],
      "source": [
        "# Code source: \u00d3scar N\u00e1jera\n# License: BSD 3 clause\n\nimport numpy as np\nimport matplotlib.pyplot as plt\n\nx = np.linspace(0, 2 * np.pi, 100)\ny = np.sin(x)\n\nplt.plot(x, y)\nplt.xlabel(r'$x$')\nplt.ylabel(r'$\\sin(x)$')\n# To avoid matplotlib text output\nplt.show()"
      ]
    },
    {
      "cell_type": "markdown",
      "metadata": {},
      "source": [
        "To include embedded rST, use a line of >= 20 ``#``'s or ``#%%`` between your\nrST and your code (see `embedding_rst`). This separates your example\ninto distinct text and code blocks. You can continue writing code below the\nembedded rST text block:\n\n"
      ]
    },
    {
      "cell_type": "code",
      "execution_count": null,
      "metadata": {
        "collapsed": false
      },
      "outputs": [],
      "source": [
        "print('This example shows a sin plot!')"
      ]
    },
    {
      "cell_type": "markdown",
      "metadata": {},
      "source": [
        "LaTeX syntax in the text blocks does not require backslashes to be escaped:\n\n\\begin{align}\\sin\\end{align}\n\nCross referencing\n^^^^^^^^^^^^^^^^^\n\nYou can refer to an example from any part of the documentation,\nincluding from other examples. Sphinx-Gallery automatically creates reference\nlabels for each example. The label consists of the ``.py`` file name,\nprefixed with ``sphx_glr_`` and the name of the\nfolder(s) the example is in. In this case, the example we want to\ncross-reference is in ``auto_examples`` (the ``gallery_dirs``; see\n`configure_and_use_sphinx_gallery`), then the subdirectory ``no_output``\n(since the example is within a sub-gallery). The file name of the example is\n``plot_syntaxerror.py``. We can thus cross-link to the example 'SyntaxError'\nusing:\n```sphx_glr_auto_examples_no_output_plot_syntaxerror.py```.\n\n.. seealso::\n    `sphx_glr_auto_examples_no_output_plot_syntaxerror.py` for a\n    an example with an error.\n\n.. |docstring| replace:: \"\"\"\n"
      ]
    }
  ],
  "metadata": {
    "kernelspec": {
      "display_name": "Python 3",
      "language": "python",
      "name": "python3"
    },
    "language_info": {
      "codemirror_mode": {
        "name": "ipython",
        "version": 3
      },
      "file_extension": ".py",
      "mimetype": "text/x-python",
      "name": "python",
      "nbconvert_exporter": "python",
      "pygments_lexer": "ipython3",
      "version": "3.7.3"
    }
  },
  "nbformat": 4,
  "nbformat_minor": 0
}